{
 "cells": [
  {
   "cell_type": "markdown",
   "metadata": {},
   "source": [
    "# Cleaning and tidying data"
   ]
  },
  {
   "cell_type": "markdown",
   "metadata": {},
   "source": [
    "## Open dataframe"
   ]
  },
  {
   "cell_type": "code",
   "execution_count": null,
   "metadata": {},
   "outputs": [],
   "source": [
    "# Always start with\n",
    "\n",
    "import pandas as pd\n",
    "import numpy as np"
   ]
  },
  {
   "cell_type": "code",
   "execution_count": null,
   "metadata": {},
   "outputs": [],
   "source": [
    "# Import csv file\n",
    "\n",
    "df = pd.read_csv('pasta/arquivo.csv', sep=';', index_col = 0)"
   ]
  },
  {
   "cell_type": "code",
   "execution_count": null,
   "metadata": {},
   "outputs": [],
   "source": [
    "#See the whole headline\n",
    "\n",
    "pd.set_option('display.max_columns', None)\n",
    "\n",
    "#See all rows\n",
    "\n",
    "pd.set_option('display.max_rows', None)"
   ]
  },
  {
   "cell_type": "markdown",
   "metadata": {},
   "source": [
    "## Getting to know your dataframe"
   ]
  },
  {
   "cell_type": "markdown",
   "metadata": {},
   "source": [
    "### Sort"
   ]
  },
  {
   "cell_type": "code",
   "execution_count": null,
   "metadata": {},
   "outputs": [],
   "source": [
    "# Organizes in the order of the line index\n",
    "\n",
    "df.sort_index(inplace = True)"
   ]
  },
  {
   "cell_type": "code",
   "execution_count": null,
   "metadata": {},
   "outputs": [],
   "source": [
    "# Sort by column order\n",
    "\n",
    "df.sort_index(inplace = True, axis = 1)"
   ]
  },
  {
   "cell_type": "code",
   "execution_count": null,
   "metadata": {},
   "outputs": [],
   "source": [
    "# Sort by specific column order\n",
    "\n",
    "df.sort_values(by = 'X', inplace = True)"
   ]
  },
  {
   "cell_type": "code",
   "execution_count": null,
   "metadata": {},
   "outputs": [],
   "source": [
    "# Sort by specific column order (more than one column)\n",
    "\n",
    "df.sort_values(by = ['X','Y'], inplace = True)"
   ]
  },
  {
   "cell_type": "code",
   "execution_count": null,
   "metadata": {},
   "outputs": [],
   "source": [
    "# Starting from the order of a specific line organizes the column\n",
    "\n",
    "df.sort_values(by = '3', axis = 1, inplace = True)"
   ]
  },
  {
   "cell_type": "markdown",
   "metadata": {},
   "source": [
    "### Prepare df"
   ]
  },
  {
   "cell_type": "code",
   "execution_count": null,
   "metadata": {},
   "outputs": [],
   "source": [
    "#Define the order of columns in the pandas dataframe\n",
    "\n",
    "df = df[['col1', 'col2', 'col3']]"
   ]
  },
  {
   "cell_type": "code",
   "execution_count": null,
   "metadata": {},
   "outputs": [],
   "source": [
    "# Change headers text\n",
    "\n",
    "df.columns = ['col1', 'col2', 'col3']\n",
    "\n",
    "#OR\n",
    "\n",
    "renomear = {\n",
    "    'total_bill' : 'valor-da_conta',\n",
    "    'tip' : 'gorjeta',\n",
    "    'dessert' : 'sobremesa',\n",
    "    'day' : 'dia_da_semana',\n",
    "    'time' : 'hora_do_dia',\n",
    "    'size' : 'total_de_pessoas'\n",
    "}\n",
    "\n",
    "gorjetas = dados.rename(columns = renomear)"
   ]
  },
  {
   "cell_type": "code",
   "execution_count": null,
   "metadata": {},
   "outputs": [],
   "source": [
    "# Remove columns that will not be used\n",
    "\n",
    "df = df.drop(columns=[ 'col1','col2','col3'])\n",
    "\n",
    "#OR\n",
    "\n",
    "df.drop([ 'col1','col2'], axis = 1, inplace = True)"
   ]
  },
  {
   "cell_type": "code",
   "execution_count": null,
   "metadata": {},
   "outputs": [],
   "source": [
    "# Other ways to delete\n",
    "# Only prints one column at a time\n",
    "\n",
    "del df['col1']\n",
    "\n",
    "#OR\n",
    "\n",
    "df.pop('col1')"
   ]
  },
  {
   "cell_type": "code",
   "execution_count": null,
   "metadata": {},
   "outputs": [],
   "source": [
    "# Fix index\n",
    "\n",
    "df.shape[0] \n",
    "df.index = range(df.shape[0])\n",
    "\n",
    "#OR\n",
    "\n",
    "df.index = df.col1"
   ]
  },
  {
   "cell_type": "code",
   "execution_count": null,
   "metadata": {},
   "outputs": [],
   "source": [
    "# Separate text into columns\n",
    "\n",
    "'l1 l2 l3 l4'.split() "
   ]
  },
  {
   "cell_type": "code",
   "execution_count": null,
   "metadata": {},
   "outputs": [],
   "source": [
    "# Create a series\n",
    "\n",
    "data = [0.5, None, None, 0.52, 0.54, None, None, 0.59, 0.6, None, 0.7]\n",
    "s = pd.Series(data)"
   ]
  },
  {
   "cell_type": "code",
   "execution_count": null,
   "metadata": {},
   "outputs": [],
   "source": [
    "# Create a df (using column filter)\n",
    "\n",
    "df1 = pd.DataFrame(df[['col1', 'col2', 'col3', 'col4']])"
   ]
  },
  {
   "cell_type": "code",
   "execution_count": null,
   "metadata": {},
   "outputs": [],
   "source": [
    "# ndarray.T: Returns the transposed array, that is, converts rows to columns and vice versa.\n",
    "\n",
    "df_new = pd.DataFrame(col2(df, 2019)).T"
   ]
  },
  {
   "cell_type": "code",
   "execution_count": null,
   "metadata": {},
   "outputs": [],
   "source": [
    "# Convert formats\n",
    "# Date\n",
    "\n",
    "df.col1 = pd.to_datetime(df['col1'])"
   ]
  },
  {
   "cell_type": "code",
   "execution_count": null,
   "metadata": {},
   "outputs": [],
   "source": [
    "# See size and percentage of a filter\n",
    "\n",
    "selecao = (df_kanban['kanban_final'] == 'Eliminados')\n",
    "df_kanban_aprovados = df_kanban[selecao].shape[0]\n",
    "df_kanban_aprovados_porcentagem = 100 * df_kanban[selecao].shape[0] / df_kanban.shape[0] \n",
    "\n",
    "print('Numero de Eliminados -> {} / {}%'.format(df_kanban_aprovados,df_kanban_aprovados_porcentagem))"
   ]
  },
  {
   "cell_type": "markdown",
   "metadata": {},
   "source": [
    "### Null and duplicate values"
   ]
  },
  {
   "cell_type": "code",
   "execution_count": null,
   "metadata": {},
   "outputs": [],
   "source": [
    "# Remove duplicate values informing tab column\n",
    "\n",
    "df = df.drop_duplicates(subset=['col1'])"
   ]
  },
  {
   "cell_type": "code",
   "execution_count": null,
   "metadata": {},
   "outputs": [],
   "source": [
    "# Count duplicate values\n",
    "\n",
    "s.value_counts()\n",
    "\n",
    "#or (one column)\n",
    "\n",
    "df.col1.value_counts()"
   ]
  },
  {
   "cell_type": "code",
   "execution_count": null,
   "metadata": {},
   "outputs": [],
   "source": [
    "# Sum of all null values\n",
    "# Marks the data with true and false\n",
    "# Shows null values as true\n",
    "\n",
    "df.isnull().sum()"
   ]
  },
  {
   "cell_type": "code",
   "execution_count": null,
   "metadata": {},
   "outputs": [],
   "source": [
    "# Sum all filled values\n",
    "# Marks the data with true and false\n",
    "# Shows null values as False\n",
    "\n",
    "df.notnull().sum()"
   ]
  },
  {
   "cell_type": "code",
   "execution_count": null,
   "metadata": {},
   "outputs": [],
   "source": [
    "# Sum all filled values\n",
    "\n",
    "gorjetas.count()"
   ]
  },
  {
   "cell_type": "code",
   "execution_count": null,
   "metadata": {},
   "outputs": [],
   "source": [
    "# Check how many null records are in a column\n",
    "\n",
    "df[df['Col1'].isnull()].shape[0]"
   ]
  },
  {
   "cell_type": "code",
   "execution_count": null,
   "metadata": {},
   "outputs": [],
   "source": [
    "# View records that are null in a column (bringing the entire dataframe)\n",
    "\n",
    "dados[dados['Valor'].isnull()]"
   ]
  },
  {
   "cell_type": "code",
   "execution_count": null,
   "metadata": {},
   "outputs": [],
   "source": [
    "# Filter a column using a condition and null values ​​with the condition\n",
    "\n",
    "selecao = (dados['Tipo'] == 'Apartamento') & (dados['Condominio'].isnull())\n",
    "\n",
    "# View how many null values\n",
    "# ~ Is used to invert true to false and false to true\n",
    "\n",
    "A = dados.shape[0]\n",
    "dados = dados[~selecao]\n",
    "B = dados.shape[0]\n",
    "A - B"
   ]
  },
  {
   "cell_type": "code",
   "execution_count": null,
   "metadata": {},
   "outputs": [],
   "source": [
    "# Remove null values\n",
    "\n",
    "df = df.dropna(subset=['full name'], inplace = True)"
   ]
  },
  {
   "cell_type": "code",
   "execution_count": null,
   "metadata": {},
   "outputs": [],
   "source": [
    "#Remove only values with conditions\n",
    "\n",
    "selecao = (imoveis['Tipo'] == 'Apartamento') & (imoveis['Condominio'].isnull())\n",
    "imoveis = imoveis[selecao]\n",
    "imoveis"
   ]
  },
  {
   "cell_type": "code",
   "execution_count": null,
   "metadata": {},
   "outputs": [],
   "source": [
    "# Replaces null values with 0\n",
    "\n",
    "dados.fillna(0, inplace = True)\n",
    "\n",
    "# OR\n",
    "\n",
    "dados = dados.fillna({'Condominio': 0, 'IPTU': 0})"
   ]
  },
  {
   "cell_type": "code",
   "execution_count": null,
   "metadata": {},
   "outputs": [],
   "source": [
    "# Replaces null values with the previous number (from above)\n",
    "\n",
    "df.fillna(method = 'ffill')\n",
    "\n",
    "# Place a limit, only at a value below\n",
    "\n",
    "s.fillna(method = 'ffill', limit = 1)"
   ]
  },
  {
   "cell_type": "code",
   "execution_count": null,
   "metadata": {},
   "outputs": [],
   "source": [
    "# Replaces null values with the previous number (under)\n",
    "\n",
    "s.fillna(method = 'bfill')\n",
    "\n",
    "# Place a limit, only at a value below\n",
    "\n",
    "s1.fillna(method = 'bfill', limit = 1)"
   ]
  },
  {
   "cell_type": "code",
   "execution_count": null,
   "metadata": {},
   "outputs": [],
   "source": [
    "# Put the average of non-null values as a padding\n",
    "\n",
    "df.fillna(df.mean(), inplace = True)"
   ]
  },
  {
   "cell_type": "code",
   "execution_count": null,
   "metadata": {},
   "outputs": [],
   "source": [
    "# view amount of null and duplicate values to confirm deletion\n",
    "\n",
    "df5 = df['col1'].nunique()\n",
    "df6 = df['col1'].duplicated().sum()\n",
    "df7 = 20101 - df6\n",
    "\n",
    "print(f'The dataframe has {df5} unique candidates and {df6} duplicates. Removing duplicates will remain {df7} candidates')"
   ]
  },
  {
   "cell_type": "markdown",
   "metadata": {},
   "source": [
    "### To view dataframes"
   ]
  },
  {
   "cell_type": "code",
   "execution_count": null,
   "metadata": {},
   "outputs": [],
   "source": [
    "#See the whole headline\n",
    "\n",
    "pd.set_option('display.max_columns', None)"
   ]
  },
  {
   "cell_type": "code",
   "execution_count": null,
   "metadata": {},
   "outputs": [],
   "source": [
    "#See all rows\n",
    "\n",
    "pd.set_option('display.max_rows', None)"
   ]
  },
  {
   "cell_type": "code",
   "execution_count": null,
   "metadata": {},
   "outputs": [],
   "source": [
    "# Filter values\n",
    "\n",
    "gorjetas[gorjetas.sobremesa == 'Sim']"
   ]
  },
  {
   "cell_type": "code",
   "execution_count": null,
   "metadata": {},
   "outputs": [],
   "source": [
    "# see all columns in a dataframe\n",
    "\n",
    "df.columns.tolist()\n",
    "\n",
    "#or\n",
    "\n",
    "df.columns"
   ]
  },
  {
   "cell_type": "code",
   "execution_count": null,
   "metadata": {},
   "outputs": [],
   "source": [
    "# View df size (row, column)\n",
    "\n",
    "df.shape"
   ]
  },
  {
   "cell_type": "code",
   "execution_count": null,
   "metadata": {},
   "outputs": [],
   "source": [
    "# View df size ( just row or column)\n",
    "\n",
    "df.shape[0] "
   ]
  },
  {
   "cell_type": "code",
   "execution_count": null,
   "metadata": {},
   "outputs": [],
   "source": [
    "# See the first 9 lines\n",
    "\n",
    "df.head(10)"
   ]
  },
  {
   "cell_type": "code",
   "execution_count": null,
   "metadata": {},
   "outputs": [],
   "source": [
    "# See all values in a column\n",
    "\n",
    "df['col1']\n",
    "\n",
    "# OR more than one\n",
    "\n",
    "df[['c3','c1']]"
   ]
  },
  {
   "cell_type": "code",
   "execution_count": null,
   "metadata": {},
   "outputs": [],
   "source": [
    "# See a list of all the unique values in a column\n",
    "\n",
    "list(df['col1'].drop_duplicates())"
   ]
  },
  {
   "cell_type": "code",
   "execution_count": null,
   "metadata": {},
   "outputs": [],
   "source": [
    "# Another way to see unique values\n",
    "\n",
    "s.unique()\n",
    "\n",
    "#OR (one column)\n",
    "\n",
    "df.col1.unique()"
   ]
  },
  {
   "cell_type": "code",
   "execution_count": null,
   "metadata": {},
   "outputs": [],
   "source": [
    "# See a df with descriptive statistics (count, mean, std, min, 25%, 50%, 75%, max)\n",
    "\n",
    "df['col1'].describe().round(2)"
   ]
  },
  {
   "cell_type": "code",
   "execution_count": null,
   "metadata": {},
   "outputs": [],
   "source": [
    "# Select custom set of statistics\n",
    "\n",
    "grupo_bairro['Valor'].aggregate(['min', 'max', 'sum'])\n",
    "\n",
    "# and rename the columns\n",
    "\n",
    "grupo_bairro['Valor'].aggregate(['min', 'max', 'sum']).rename(columns = {'min': 'Mínimo', 'max': 'Máximo'})\n",
    "#OR\n",
    "estatisticas = ['mean', 'std', 'min', 'max']\n",
    "nomes = {'mean': 'Média', 'std': 'Desvio Padrão', \n",
    "    'min': 'Mínimo', 'max': 'Máximo'}\n",
    "produtos['Preço'].aggregate(estatisticas)\n",
    "    .rename(columns = nomes).round(2)"
   ]
  },
  {
   "cell_type": "markdown",
   "metadata": {},
   "source": [
    "### Join"
   ]
  },
  {
   "cell_type": "code",
   "execution_count": null,
   "metadata": {},
   "outputs": [],
   "source": [
    "# Take all values from the second column that are different from nan and put in the first column\n",
    "\n",
    "df['col_new'] = np.where(df['col2'].notnull(), df['col2'], df['col1'])"
   ]
  },
  {
   "cell_type": "code",
   "execution_count": null,
   "metadata": {},
   "outputs": [],
   "source": [
    "# Replace the nan values in the first column with the value in the second column:\n",
    "\n",
    "# col1 é a coluna com valores nan\n",
    "# col2 contém os valores para substituir os nan em col1\n",
    "\n",
    "df['col1'] = df['col1'].fillna(df['col2'])"
   ]
  },
  {
   "cell_type": "code",
   "execution_count": null,
   "metadata": {},
   "outputs": [],
   "source": [
    "# Merge df1 with dfl2 (using the id)\n",
    "\n",
    "df_new = df1.merge(df2, on = \"id\", how = \"left\")"
   ]
  },
  {
   "cell_type": "code",
   "execution_count": null,
   "metadata": {},
   "outputs": [],
   "source": [
    "# Join the two dataframes\n",
    "\n",
    "df = pd.concat([df1, df2], axis = 1)"
   ]
  },
  {
   "cell_type": "code",
   "execution_count": null,
   "metadata": {},
   "outputs": [],
   "source": [
    "# Add name with surname \n",
    "# And format data view\n",
    "\n",
    "df2= df1['name'].astype(str)+' '+df1['last name']\n",
    "df2.columns = ['full name']\n",
    "df2 = df2.str.title()"
   ]
  },
  {
   "cell_type": "code",
   "execution_count": null,
   "metadata": {},
   "outputs": [],
   "source": [
    "#df = pd.merge(df1,df2,on='full name')\n",
    "#df7= df1.join(df2, on='full name')\n",
    "#df = pd.merge(df1,df2,how='outer')\n",
    "\n",
    "escrever o que acontece nos casos (incluino o de cima)\n"
   ]
  },
  {
   "cell_type": "code",
   "execution_count": null,
   "metadata": {},
   "outputs": [],
   "source": [
    "# Loop for to join two df (worst way)\n",
    "\n",
    "for index2, row2 in df2.iterrows():\n",
    "    for index1, row1 in df1.iterrows():\n",
    "        if row2['full name'] == row1['full name']:\n",
    "            row2['ID'] = row1['ID']\n",
    "            df2['index2'] = row2   "
   ]
  },
  {
   "cell_type": "markdown",
   "metadata": {},
   "source": [
    "### LOC AND ILOC"
   ]
  },
  {
   "cell_type": "markdown",
   "metadata": {},
   "source": [
    "#### Using two [[]] returns in df and not in series"
   ]
  },
  {
   "cell_type": "code",
   "execution_count": null,
   "metadata": {},
   "outputs": [],
   "source": [
    "# Filtering by lines\n",
    "\n",
    "# By a range of lines\n",
    "\n",
    "df[1:3]\n",
    "\n",
    "# OR all lines\n",
    "\n",
    "df[:]"
   ]
  },
  {
   "cell_type": "code",
   "execution_count": null,
   "metadata": {},
   "outputs": [],
   "source": [
    "# Selection using the line label -(use the name) = LOC\n",
    "\n",
    "# Select one line\n",
    "\n",
    "df.loc['l3']\n",
    "\n",
    "# or more than one\n",
    "\n",
    "df.loc[['l3', 'l2']]"
   ]
  },
  {
   "cell_type": "code",
   "execution_count": null,
   "metadata": {},
   "outputs": [],
   "source": [
    "# Selection using the line label -(use the name) = LOC\n",
    "\n",
    "# Selecting column and row\n",
    "\n",
    "df.loc['l1', 'c2']\n",
    "\n",
    "# OR more than one\n",
    "\n",
    "df.loc[['l3', 'l1'], ['c4','c1']] #square\n",
    "\n",
    "# OR by a range of lines\n",
    "\n",
    "df[1:][['c3', 'c1']]"
   ]
  },
  {
   "cell_type": "code",
   "execution_count": null,
   "metadata": {},
   "outputs": [],
   "source": [
    "# This selection does not use the labels (name) uses the numerical index\n",
    "# First is the name and the second the column\n",
    "\n",
    "\n",
    "#same thing\n",
    "\n",
    "# Version ILOC:\n",
    "df.iloc[0,1]\n",
    "#Version LOC:\n",
    "df.loc['l1', 'c2']\n",
    "\n",
    "#same thing\n",
    "\n",
    "# Version ILOC:\n",
    "df.iloc[[2,0],[3,0]]\n",
    "# Version LOC:\n",
    "df.loc[['l3', 'l1'], ['c4','c1']] #square"
   ]
  },
  {
   "cell_type": "code",
   "execution_count": null,
   "metadata": {},
   "outputs": [],
   "source": [
    "# Filter using loc\n",
    "# DataFrame with failed students (condition) and with the Name, Sex and Age columns, in that order.\n",
    "\n",
    "selecao = alunos['Aprovado'] == False\n",
    "reprovados = alunos.loc[selecao, ['Nome', 'Sexo', 'Idade']]\n",
    "reprovados\n",
    "\n",
    "# OR\n",
    "\n",
    "selecao = alunos['Aprovado'] == False\n",
    "reprovados = alunos[['Nome', 'Sexo', 'Idade']][selecao]\n",
    "reprovados"
   ]
  },
  {
   "cell_type": "code",
   "execution_count": null,
   "metadata": {},
   "outputs": [],
   "source": [
    "# Filter using loc\n",
    "# visualization with the three youngest students.\n",
    "\n",
    "alunos.sort_values(by = ['Idade'], inplace = True)\n",
    "alunos.iloc[:3]"
   ]
  },
  {
   "cell_type": "markdown",
   "metadata": {},
   "source": [
    "### Other filters"
   ]
  },
  {
   "cell_type": "code",
   "execution_count": null,
   "metadata": {},
   "outputs": [],
   "source": [
    "# Create list using filter on a dataframe\n",
    "\n",
    "df3 = df1['col1']"
   ]
  },
  {
   "cell_type": "code",
   "execution_count": null,
   "metadata": {},
   "outputs": [],
   "source": [
    "# To make filters in DF from a list (1 condition)\n",
    "\n",
    "\n",
    "# 1º - Find out all the values in a column and create a list with the values you need only\n",
    "\n",
    "list(dados['Tipo'].drop_duplicates())\n",
    "\n",
    "# 2nd- Create list\n",
    "\n",
    "list_filter = ['val1', 'val2', 'val3']\n",
    "\n",
    "# Use the list to filter the df from the column you select\n",
    "\n",
    "select = df_origin['col1'].isin(list_filter)\n",
    "df_filter = df_origin[select]"
   ]
  },
  {
   "cell_type": "code",
   "execution_count": null,
   "metadata": {},
   "outputs": [],
   "source": [
    "# Make a filter more than one condition\n",
    "# The shape serves to print only the list size, can be removed\n",
    "\n",
    "selecao = (dados['Tipo'] == 'Casa') | (dados['Tipo'] == 'Casa de Condomínio') | (dados['Tipo'] == 'Casa de Vila')\n",
    "n2 = dados[selecao].shape[0]\n",
    "n2 "
   ]
  },
  {
   "cell_type": "code",
   "execution_count": null,
   "metadata": {},
   "outputs": [],
   "source": [
    "# Filter using interval of some criterion\n",
    "# The shape serves to print only the list size, can be removed\n",
    "\n",
    "selecao = (dados['Area'] >= 60) & (dados['Area'] <= 100)\n",
    "n3 = dados[selecao].shape[0]\n",
    "n3 \n",
    "\n",
    "# OR\n",
    "\n",
    "selecao = (alunos.Idade > 10) & \n",
    "    (alunos.Idade < 20) | (alunos.Idade >= 40)\n",
    "alunos[selecao]"
   ]
  },
  {
   "cell_type": "code",
   "execution_count": null,
   "metadata": {},
   "outputs": [],
   "source": [
    "# Filter using different criteria and columns\n",
    "# The shape serves to print only the list size, can be removed\n",
    "\n",
    "selecao = (dados['Quartos'] >= 4) & (dados['Valor'] < 2000)\n",
    "n4 = dados[selecao].shape[0]\n",
    "n4"
   ]
  },
  {
   "cell_type": "code",
   "execution_count": null,
   "metadata": {},
   "outputs": [],
   "source": [
    "# Create a variable that contains two forms of segmentation So you will be able to identify which tag it belongs to and assign:\n",
    "\n",
    "casa = ['Casa', 'Casa de Condomínio', 'Casa de Vila']\n",
    "dados['Tipo Agregado'] = dados['Tipo'].apply(lambda x: 'Casa' if x in casa else 'Apartamento')\n",
    "\n",
    "#OR\n",
    "\n",
    "alunos['Faixa Etária'] = alunos['Idade']\n",
    "    .apply(lambda x: 'Menor que 20 anos' if x < 20 \n",
    "        else ('Entre 20 e 40 anos' if (x >= 20 and x <= 40) \n",
    "            else 'Maior que 40 anos'))"
   ]
  },
  {
   "cell_type": "code",
   "execution_count": null,
   "metadata": {},
   "outputs": [],
   "source": [
    "# Exchange data text for another\n",
    "\n",
    "df.col1.unique()\n",
    "\n",
    "sim_nao = {\n",
    "    'No' : 'Não',\n",
    "    'Yes' : 'Sim'\n",
    "}\n",
    "\n",
    "df.col1 = df.col1.map(sim_nao)\n",
    "\n",
    "#or\n",
    "\n",
    "dias = {\n",
    "    'Sun' : 'Domingo',\n",
    "    'Sat' : 'Sábado',\n",
    "    'Thur' : 'Quinta',\n",
    "    'Fri' : 'Sexta'\n",
    "}\n",
    "\n",
    "df.col1 = df.col1.map(dias)\n",
    "\n"
   ]
  },
  {
   "cell_type": "markdown",
   "metadata": {},
   "source": [
    "### Group by"
   ]
  },
  {
   "cell_type": "code",
   "execution_count": null,
   "metadata": {},
   "outputs": [],
   "source": [
    "# Create a grouping of data from variables and work on them\n",
    "\n",
    "# 1st filter\n",
    "\n",
    "bairros = ['Barra da Tijuca', 'Copacabana', 'Ipanema', 'Leblon', 'Botafogo', 'Flamengo', 'Tijuca']\n",
    "selecao = dados['Bairro'].isin(bairros)\n",
    "dados = dados[selecao]\n",
    "\n",
    "dados['Bairro'].drop_duplicates()\n",
    "\n",
    "# 2nd group\n",
    "\n",
    "grupo_bairro = dados.groupby('Bairro')\n",
    "\n",
    "#3rd print (worst way)\n",
    "\n",
    "for bairro, dados in grupo_bairro: \n",
    "    print('{} -> {}'.format(bairro, dados.Valor.mean()))\n",
    "\n",
    "#OR\n",
    "\n",
    "grupo_bairro['Valor'].mean()\n"
   ]
  },
  {
   "cell_type": "code",
   "execution_count": null,
   "metadata": {},
   "outputs": [],
   "source": [
    "# Create a grouping of data from variables and work on them\n",
    "\n",
    "# More than one variable\n",
    "\n",
    "grupo_bairro[['Valor', 'Condominio']].mean().round(2)\n",
    "\n",
    "\n",
    "#OR\n",
    "\n",
    "df = df_old.groupby('col1')\n",
    "df = df_old.DataFrame(sexo['col2'].mean().round(2))\n",
    "df.columns = ['new_col']\n",
    "df"
   ]
  },
  {
   "cell_type": "markdown",
   "metadata": {},
   "source": [
    "### Slice and rename data segmentation"
   ]
  },
  {
   "cell_type": "code",
   "execution_count": null,
   "metadata": {},
   "outputs": [],
   "source": [
    "# 1st slice\n",
    "\n",
    "# 1 e 2\n",
    "# 3 e 4\n",
    "# 5 e 6\n",
    "# 7 e 8\n",
    "classes = [0, 2, 4, 6, 100]\n",
    "\n",
    "# 2nd cut (use only classes)\n",
    "\n",
    "quartos = pd.cut(dados.Quartos, classes)\n",
    "\n",
    "# 3rd rename\n",
    "\n",
    "labels = ['1 e 2 quartos', '3 e 4 quartos', '5 e 6 quartos', '7 quartos ou mais' ]\n",
    "quartos = pd.cut(dados.Quartos, classes, labels = labels)\n",
    "\n",
    "#If you want include the number o\n",
    "quartos = pd.cut(dados.Quartos, classes, labels = labels, include_lowest = True)"
   ]
  },
  {
   "cell_type": "markdown",
   "metadata": {},
   "source": [
    "### Calculations"
   ]
  },
  {
   "cell_type": "code",
   "execution_count": null,
   "metadata": {},
   "outputs": [],
   "source": [
    "# Calculate the average\n",
    "\n",
    "df['col1'].mean()"
   ]
  },
  {
   "cell_type": "code",
   "execution_count": null,
   "metadata": {},
   "outputs": [],
   "source": [
    "# Sum of values joining columns\n",
    "\n",
    "df['Valor Bruto'] = df['Valor'] + df['Condominio'] + df['IPTU']"
   ]
  },
  {
   "cell_type": "code",
   "execution_count": null,
   "metadata": {},
   "outputs": [],
   "source": [
    "# Split a value and create a new column\n",
    "\n",
    "gorjetas['porcentagem'] = gorjetas['gorjeta'] / gorjetas['valor_da_conta']\n",
    "gorjetas.porcentagem = gorjetas.porcentagem.round(2)"
   ]
  },
  {
   "cell_type": "code",
   "execution_count": null,
   "metadata": {},
   "outputs": [],
   "source": [
    "# Dividing values by joining columns\n",
    "\n",
    "dados['Valor m2'] = dados['Valor']/dados['Area']\n",
    "\n",
    "# OR rounding the result (to two decimal places)\n",
    "\n",
    "dados['Valor m2'] = dados['Valor m2'].round(2)\n",
    "#OR\n",
    "dados['Valor Bruto m2'] = (dados['Valor Bruto']/dados['Area']).round(2)"
   ]
  },
  {
   "cell_type": "code",
   "execution_count": null,
   "metadata": {},
   "outputs": [],
   "source": [
    "# Count repetitions\n",
    "\n",
    "eventos = {'m1': list(m1), \n",
    "            'm2': list(m2), \n",
    "            'm3': list(m3), \n",
    "            'm4': list(m4), \n",
    "            'm5': list(m5)}\n",
    "moedas = pd.DataFrame(eventos)\n",
    "df = pd.DataFrame(data = ['Cara', 'Coroa'], \n",
    "                    index = ['c', 'C'], \n",
    "                    columns = ['Faces'])\n",
    "for item in moedas:\n",
    "    df = pd.concat([df, moedas[item].value_counts()], \n",
    "                    axis = 1)\n",
    "df"
   ]
  },
  {
   "cell_type": "markdown",
   "metadata": {},
   "source": [
    "## Finalize file"
   ]
  },
  {
   "cell_type": "code",
   "execution_count": null,
   "metadata": {},
   "outputs": [],
   "source": [
    "print(\"Any message you want to send' -> {}\".format(df))"
   ]
  },
  {
   "cell_type": "code",
   "execution_count": null,
   "metadata": {},
   "outputs": [],
   "source": [
    "# Save without default index\n",
    "\n",
    "df.to_csv('pasta/name_file.csv', sep=';', index = False)"
   ]
  }
 ],
 "metadata": {
  "kernelspec": {
   "display_name": "Python 3",
   "language": "python",
   "name": "python3"
  },
  "language_info": {
   "codemirror_mode": {
    "name": "ipython",
    "version": 3
   },
   "file_extension": ".py",
   "mimetype": "text/x-python",
   "name": "python",
   "nbconvert_exporter": "python",
   "pygments_lexer": "ipython3",
   "version": "3.8.3"
  }
 },
 "nbformat": 4,
 "nbformat_minor": 4
}
