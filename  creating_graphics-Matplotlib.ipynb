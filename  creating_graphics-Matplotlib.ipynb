{
 "cells": [
  {
   "cell_type": "markdown",
   "metadata": {},
   "source": [
    "# Creating graphs for data visualization"
   ]
  },
  {
   "cell_type": "markdown",
   "metadata": {},
   "source": [
    "## Open dataframe"
   ]
  },
  {
   "cell_type": "code",
   "execution_count": null,
   "metadata": {},
   "outputs": [],
   "source": [
    "# Always start with\n",
    "\n",
    "%matplotlib inline      #apareça o gráfico\n",
    "import matplotlib.pyplot as plt\n",
    "\n",
    "# Configure image size\n",
    "\n",
    "plt.rc('figure', figsize = (20,10))"
   ]
  },
  {
   "cell_type": "code",
   "execution_count": null,
   "metadata": {},
   "outputs": [],
   "source": [
    "# Import csv file\n",
    "\n",
    "df = pd.read_csv('pasta/arquivo.csv', sep=';')"
   ]
  },
  {
   "cell_type": "code",
   "execution_count": null,
   "metadata": {},
   "outputs": [],
   "source": [
    "# Open figure\n",
    "\n",
    "< img src=\"nome_imagem.png\" width= 78%>"
   ]
  },
  {
   "cell_type": "markdown",
   "metadata": {},
   "source": [
    "## Viewing the data"
   ]
  },
  {
   "cell_type": "code",
   "execution_count": null,
   "metadata": {},
   "outputs": [],
   "source": [
    "# Simple single color bar chart\n",
    "\n",
    "fig = grupo_bairro['Valor'].std().plot.bar(color = 'blue')"
   ]
  },
  {
   "cell_type": "code",
   "execution_count": null,
   "metadata": {},
   "outputs": [],
   "source": [
    "# Calculate the average of a variable. Also name the axis and create a title (changing the font)\n",
    "\n",
    "fig = grupo_bairro['Valor'].mean().plot.bar(color = 'blue')\n",
    "fig.set_ylabel('Valor do Aluguel')\n",
    "fig.set_title('Valor Médio do Aluguel por Bairro', {'fontsize': 22})"
   ]
  },
  {
   "cell_type": "markdown",
   "metadata": {},
   "source": [
    "### Removing Outliers"
   ]
  },
  {
   "cell_type": "code",
   "execution_count": null,
   "metadata": {},
   "outputs": [],
   "source": [
    "# First, we will calculate the quartiles.\n",
    "# Calcularemos Q1 o primeiro quartil. Assim feito, prosseguiremos com o cálculo de Q3 e em seguida IIQ, o intervalo interquatílico. Precisamos, ainda, calcular os limites, que chamaremos de limite_inferior e limite_superior.\n",
    "\n",
    "Q1 = valor.quantile(.25)\n",
    "Q3 = valor.quantile(.75)\n",
    "IIQ = Q3 - Q1\n",
    "limite_inferior = Q1 - 1.5 * IIQ\n",
    "limite_superior = Q3 + 1.5 * IIQ\n",
    "\n",
    "# We will make a selection of the data that are only within these two limits\n",
    "\n",
    "selecao = (valor >=limite_inferior) & (valor <= limite_superior)\n",
    "dados_new = dados[selecao]\n",
    "\n"
   ]
  },
  {
   "cell_type": "code",
   "execution_count": null,
   "metadata": {},
   "outputs": [],
   "source": [
    "# Ungroup and perform analysis using other groupings\n",
    "\n",
    "# 1st Create a group\n",
    "\n",
    "grupo_tipo = dados.groupby('Tipo')\n",
    "grupo_tipo = dados.groupby('Tipo')['Valor']\n",
    "\n",
    "# 2nd Create the statistics\n",
    "\n",
    "Q1 =  grupo_tipo.quantile(.25)\n",
    "Q3 =  grupo_tipo.quantile(.75)\n",
    "IIQ = Q3 - Q1\n",
    "limite_inferior = Q1 - 1.5 * IIQ\n",
    "limite_superior = Q3 + 1.5 * IIQ\n",
    "\n",
    "# 3rd Create the selection and new dataframe\n",
    "\n",
    "dados_new = pd.DataFrame()\n",
    "for tipo in grupo_tipo.groups.keys():\n",
    "    eh_tipo = dados['Tipo'] == tipo\n",
    "    eh_dentro_limite = (dados['Valor'] >= limite_inferior[tipo]) & (dados['Valor'] <= limite_superior[tipo])\n",
    "    selecao = eh_tipo & eh_dentro_limite\n",
    "    dados_selecao = dados[selecao]\n",
    "    dados_new = pd.concat([dados_new, dados_selecao])"
   ]
  },
  {
   "cell_type": "markdown",
   "metadata": {},
   "source": [
    "##  Graphics settings"
   ]
  },
  {
   "cell_type": "code",
   "execution_count": null,
   "metadata": {},
   "outputs": [],
   "source": [
    "# Chart size (big)\n",
    "\n",
    "fig = plt.figure(figsize= (15,8))   "
   ]
  },
  {
   "cell_type": "code",
   "execution_count": null,
   "metadata": {},
   "outputs": [],
   "source": [
    "# Insert title\n",
    "\n",
    "plt.title('Insert the title')"
   ]
  },
  {
   "cell_type": "code",
   "execution_count": null,
   "metadata": {},
   "outputs": [],
   "source": [
    "# Create axis\n",
    "\n",
    "fig = plt.figure(figsize= (15,8))\n",
    "eixo = fig.add_axes([0, 0, 1, 1])"
   ]
  },
  {
   "cell_type": "code",
   "execution_count": null,
   "metadata": {},
   "outputs": [],
   "source": [
    "# Put visualization on the axis\n",
    "\n",
    "...\n",
    "eixo.plot(df.col1, df.col2)"
   ]
  },
  {
   "cell_type": "code",
   "execution_count": null,
   "metadata": {},
   "outputs": [],
   "source": [
    "# Put title on the axis\n",
    "\n",
    "...\n",
    "eixo.set_title('Insert the title')   \n",
    "eixo.set_ylabel('axes Y')\n",
    "eixo.set_xlabel('axes X')"
   ]
  },
  {
   "cell_type": "code",
   "execution_count": null,
   "metadata": {},
   "outputs": [],
   "source": [
    "# Increase font size\n",
    "\n",
    "...\n",
    "eixo.set_title('Insert the title', fontsize= 25)   \n",
    "eixo.set_ylabel('axes Y', fontsize= 20)\n",
    "eixo.set_xlabel('axes X', fontsize= 20)"
   ]
  },
  {
   "cell_type": "code",
   "execution_count": null,
   "metadata": {},
   "outputs": [],
   "source": [
    "# Include legend inside the axis\n",
    "# Can change the position (loc)\n",
    "\n",
    "...  \n",
    "eixo.legend(['col1'], loc= 'lower right', fontsize= 15)   "
   ]
  },
  {
   "cell_type": "code",
   "execution_count": null,
   "metadata": {},
   "outputs": [],
   "source": [
    "# Change color (final)\n",
    "\n",
    "fig = plt.figure(figsize=(15,8))\n",
    "eixo = fig.add_axes([0, 0, 1, 1])\n",
    "eixo.plot(df['data'], df['temperatura'], color = 'green')\n",
    "\n",
    "eixo.set_title('Temperatura no momento', fontsize=25)\n",
    "eixo.set_ylabel('Temperatura', fontsize=20)\n",
    "eixo.set_xlabel('Data', fontsize=20)\n",
    "eixo.legend(['temperatura'], loc = 'lower right', fontsize=15) "
   ]
  },
  {
   "cell_type": "code",
   "execution_count": null,
   "metadata": {},
   "outputs": [],
   "source": [
    "# Change graph line thickness\n",
    "\n",
    "...\n",
    "eixo.plot(df['data'], df['temperatura'], color = 'g', lw = 4)\n",
    "..."
   ]
  },
  {
   "cell_type": "code",
   "execution_count": null,
   "metadata": {},
   "outputs": [],
   "source": [
    "# Change line style\n",
    "\n",
    "...\n",
    "eixo.axhline(max(df['temperatura']), color='k', linestyle='--')\n",
    "..."
   ]
  },
  {
   "cell_type": "code",
   "execution_count": null,
   "metadata": {},
   "outputs": [],
   "source": [
    "# Change graph line style (dotted line)\n",
    "\n",
    "...\n",
    "eixo.plot(df['data'], df['temperatura'], color = 'g', ls = 'dotted')\n",
    "..."
   ]
  },
  {
   "cell_type": "code",
   "execution_count": null,
   "metadata": {},
   "outputs": [],
   "source": [
    "# change x-axis limit\n",
    "\n",
    "...\n",
    "eixo.set_xlim(datetime.datetime(2014,1,1),datetime.datetime(2015,1,1))\n",
    "..."
   ]
  },
  {
   "cell_type": "code",
   "execution_count": null,
   "metadata": {},
   "outputs": [],
   "source": [
    "# change y-axis limit\n",
    "\n",
    "...\n",
    "eixo.set_ylim(0,50)"
   ]
  },
  {
   "cell_type": "code",
   "execution_count": null,
   "metadata": {},
   "outputs": [],
   "source": [
    "# Add markers on the chart\n",
    "\n",
    "...\n",
    "eixo.plot(df['data'], df['temperatura'], color = 'g', marker = 'o')\n",
    "..."
   ]
  },
  {
   "cell_type": "code",
   "execution_count": null,
   "metadata": {},
   "outputs": [],
   "source": [
    "# Move title off chart (pad)\n",
    "\n",
    "...\n",
    "eixo.set_title('Temperatura em 2014', fontsize=25, pad = 20)\n",
    "..."
   ]
  },
  {
   "cell_type": "code",
   "execution_count": null,
   "metadata": {},
   "outputs": [],
   "source": [
    "# Create a chart (detailed) within another\n",
    "# loc='best' the plt choose the place\n",
    "\n",
    "fig = plt.figure(figsize=(15,8))\n",
    "\n",
    "eixo = fig.add_axes([0,0,1,1])\n",
    "eixo2 = fig.add_axes([0.7,0.65,0.3,0.3])\n",
    "\n",
    "eixo.grid(True)\n",
    "eixo.plot(df['data'], df['temperatura'], color = 'green')\n",
    "eixo.set_xlim(datetime.datetime(2014,1,1), datetime.datetime(2015,1,1))\n",
    "eixo.set_title('Temperatura em 2014', fontsize=25, pad = 20)\n",
    "eixo.set_ylabel('Temperatura', fontsize=20)\n",
    "eixo.set_xlabel('Data', fontsize=20)\n",
    "eixo.legend(['Temperatura'], loc = 'lower right', fontsize= 15)\n",
    "\n",
    "eixo2.grid(True)\n",
    "eixo2.plot(df['data'], df['temperatura'], color = 'b')\n",
    "eixo2.legend(['Temperatura'], loc = 'lower right') \n",
    "eixo2.set_title('Temperatura 2012-2018', fontsize=15)"
   ]
  },
  {
   "cell_type": "code",
   "execution_count": null,
   "metadata": {},
   "outputs": [],
   "source": [
    "# Apply different focuses and paint only one window of the data in a different color\n",
    "\n",
    "fig = plt.figure(figsize=(15,8))\n",
    "\n",
    "eixo = fig.add_axes([0,0,1,1])\n",
    "eixo2 = fig.add_axes([0.7,0.65,0.3,0.3])\n",
    "\n",
    "eixo.grid(True)\n",
    "eixo.plot(df['data'], df['temperatura'], color = 'green')\n",
    "eixo.set_xlim(datetime.datetime(2014,5,1),datetime.datetime(2014,6,1)) # Apenas maio/14\n",
    "eixo.set_ylim(0,50) # eixo y de 0 a 50\n",
    "eixo.set_title('Temperatura em Maio/2014', fontsize=25, pad = 20)\n",
    "eixo.set_ylabel('Temperatura', fontsize=20)\n",
    "eixo.set_xlabel('Data', fontsize=20)\n",
    "eixo.legend(['Temperatura'], loc = 'lower right', fontsize= 15)\n",
    "\n",
    "eixo2.grid(True)\n",
    "eixo2.plot(df['data'], df['temperatura'], color = 'b')\n",
    "eixo2.set_xlim(datetime.datetime(2014,1,1),datetime.datetime(2015,1,1)) # Apenas 2014\n",
    "eixo2.legend(['Temperatura'], loc = 'lower right')\n",
    "eixo2.set_title('Temperatura 2014', fontsize=15)"
   ]
  },
  {
   "cell_type": "code",
   "execution_count": null,
   "metadata": {},
   "outputs": [],
   "source": [
    "# Draw horizontal lines at the maximum and minimum points\n",
    "\n",
    "...\n",
    "eixo.axhline(max(df['temperatura']), color='k', linestyle='--')\n",
    "eixo.axhline(min(df['temperatura']), color='k', linestyle='--')"
   ]
  },
  {
   "cell_type": "code",
   "execution_count": null,
   "metadata": {},
   "outputs": [],
   "source": [
    "# Make arrows with annotations pointing to the maximum and minimum points\n",
    "\n",
    "# Location on the chart\n",
    "x1 = df['data'][df['temperatura'].idxmax()]      \n",
    "y1 = max(df['temperatura'])\n",
    "\n",
    "# Origin/position location arrow --- max value\n",
    "x2 = df['data'][df['temperatura'].idxmax() - 7000]\n",
    "y2 = y1 - 5\n",
    "\n",
    "# Text position , arrow offset e facecolor (color arrow) --- max value\n",
    "eixo.annotate(\"Máximo\", fontsize = 20,\n",
    "            xy=(x1, y1), xytext=(x2, y2),\n",
    "            arrowprops=dict(facecolor = ‘k')\n",
    "            )\n",
    "\n",
    "# Origin/position location arrow --- min value \n",
    "x1 = df['data'][df['temperatura'].idxmin()]\n",
    "y1 = min(df['temperatura'])\n",
    "\n",
    "x2 = df['data'][df['temperatura'].idxmin() - 7000]\n",
    "y2 = y1 +5\n",
    "\n",
    "              \n",
    "# Text position , arrow offset e facecolor (color arrow) --- min value\n",
    "eixo.annotate(\"Mínimo\", fontsize = 20,\n",
    "            xy=(x1, y1), xytext=(x2, y2),\n",
    "            arrowprops=dict(facecolor = ‘k’)\n",
    "            )\n",
    "\n",
    "              \n",
    "# Set value              \n",
    "eixo.axhline(max(df['temperatura']), color='k', linestyle='--')\n",
    "eixo.axhline(min(df['temperatura']), color='k', linestyle='--')"
   ]
  },
  {
   "cell_type": "code",
   "execution_count": null,
   "metadata": {},
   "outputs": [],
   "source": [
    "# Color a bar of each color and add border to the bars\n",
    "\n",
    "...\n",
    "cores = ['black', 'r', 'g', 'b', 'yellow', 'orange', 'magenta']\n",
    "\n",
    "eixo.bar(indice, temperatura_por_dia_da_semana, color=cores, edgecolor='black')\n",
    "..."
   ]
  },
  {
   "cell_type": "code",
   "execution_count": null,
   "metadata": {},
   "outputs": [],
   "source": [
    "# Explode the pizza slices and add shadow to the pizza\n",
    "# Follows the list created at the same position, above 0 moves away from the center (explodes)\n",
    "...\n",
    "explodir = [0.1, 0, 0, 0, 0, 0.1, 0.1]\n",
    "\n",
    "eixo.pie(temperatura_por_dia_da_semana, labels=temperatura_por_dia_da_semana.index,\n",
    "         autopct='%.1f%%', explode=explodir, shadow=True)\n",
    "..."
   ]
  },
  {
   "cell_type": "code",
   "execution_count": null,
   "metadata": {},
   "outputs": [],
   "source": [
    "# Increase the size of the X and Y axis numbers (increase the size of the parameters (legend) of the axes)\n",
    "\n",
    "...\n",
    "eixo.tick_params(labelsize=15)"
   ]
  },
  {
   "cell_type": "code",
   "execution_count": null,
   "metadata": {},
   "outputs": [],
   "source": [
    "# Color the different groups with different colors and add a caption\n",
    "\n",
    "...\n",
    "\n",
    "cores = {'Iris-setosa': 'r', 'Iris-versicolor': 'b', 'Iris-virginica': 'g'}\n",
    "\n",
    "for especie in df['espécie'].unique():\n",
    "    tmp = df[df['espécie'] == especie]\n",
    "    eixo.scatter(tmp['comprimento_sépala'], tmp['largura_sépala'],\n",
    "                 color=cores[especie])\n",
    "\n",
    "#eixo.set_title('Gráfico de dispersão', fontsize=25, pad=15)\n",
    "#eixo.set_xlabel('Comprimento da sépala', fontsize=15)\n",
    "#eixo.set_ylabel('Largura da sépala', fontsize=15)\n",
    "#eixo.tick_params(labelsize=15)\n",
    "eixo.legend(cores, fontsize=20)"
   ]
  },
  {
   "cell_type": "code",
   "execution_count": null,
   "metadata": {},
   "outputs": [],
   "source": [
    "# Change the markers, making a different marker for each group and increase the size of the markers\n",
    "\n",
    "...\n",
    "cores = {'Iris-setosa': 'r', 'Iris-versicolor': 'b', 'Iris-virginica': 'g'}\n",
    "marcadores = {'Iris-setosa': 'x', 'Iris-versicolor': 'o', 'Iris-virginica': 'v'}\n",
    "\n",
    "for especie in df['espécie'].unique():\n",
    "    tmp = df[df['espécie'] == especie]\n",
    "    eixo.scatter(tmp['comprimento_sépala'], tmp['largura_sépala'],\n",
    "                 color=cores[especie], marker=marcadores[especie],\n",
    "                 s=100)\n",
    "..."
   ]
  },
  {
   "cell_type": "code",
   "execution_count": null,
   "metadata": {},
   "outputs": [],
   "source": [
    "# Make a box graph for each of the variables, outside the group\n",
    "\n",
    "fig = plt.figure(figsize=(8,5))\n",
    "eixo = fig.add_axes([0,0,1,1])\n",
    "\n",
    "# Throw out column that has no useful variation\n",
    "# And take all possible variables\n",
    "# Becomes an array\n",
    "\n",
    "eixo.boxplot(df.drop('espécie', axis=1).values)\n",
    "eixo.set_title('Gráfico de caixa', fontsize=15, pad=10)\n",
    "eixo.set_xticklabels(df.drop('espécie', axis=1).columns)"
   ]
  },
  {
   "cell_type": "code",
   "execution_count": null,
   "metadata": {},
   "outputs": [],
   "source": [
    "# Color the boxes, each with different colors\n",
    "\n",
    "fig = plt.figure(figsize=(8,5))\n",
    "eixo = fig.add_axes([0,0,1,1])\n",
    "\n",
    "cores = ['red', 'blue', 'orange', 'green']\n",
    "\n",
    "# patch_artist = Fill in the box\n",
    "caixas = eixo.boxplot(df.drop('espécie', axis=1).values, patch_artist=True)\n",
    "eixo.set_title('Gráfico de caixa', fontsize=15, pad=10)\n",
    "eixo.set_xticklabels(df.drop('espécie', axis=1).columns)\n",
    "\n",
    "# Assign a color to each group\n",
    "for caixa, cor in zip(caixas['boxes'], cores):\n",
    "    caixa.set(color=cor)"
   ]
  },
  {
   "cell_type": "code",
   "execution_count": null,
   "metadata": {},
   "outputs": [],
   "source": [
    "# Change the outliers marker on the box graph\n",
    "\n",
    "...\n",
    "for outlier in caixas['fliers']:\n",
    "    outlier.set(marker='x', markersize=8)"
   ]
  },
  {
   "cell_type": "code",
   "execution_count": null,
   "metadata": {},
   "outputs": [],
   "source": [
    "# Add grid and density to the histogram\n",
    "\n",
    "...\n",
    "eixo.hist(df['comprimento_pétala'], bins=20)\n",
    "..."
   ]
  },
  {
   "cell_type": "code",
   "execution_count": null,
   "metadata": {},
   "outputs": [],
   "source": [
    "# Normalized vision (change ratio)\n",
    "\n",
    "...\n",
    "eixo.hist(df['comprimento_pétala'], bins=20, density=True)\n",
    "..."
   ]
  },
  {
   "cell_type": "code",
   "execution_count": null,
   "metadata": {},
   "outputs": [],
   "source": [
    "# Switch from vertical to horizontal \n",
    "\n",
    "...\n",
    "eixo.hist(df['comprimento_pétala'], bins=20, orientation='horizontal')\n",
    "..."
   ]
  },
  {
   "cell_type": "code",
   "execution_count": null,
   "metadata": {},
   "outputs": [],
   "source": [
    "# Add annotation indicating the mean and standard deviation in the histogram\n",
    "\n",
    "fig = plt.figure(figsize=(5,4))\n",
    "eixo = fig.add_axes([0,0,1,1])\n",
    "\n",
    "# Mu= mean/ Sigma= standard deviation\n",
    "mu, sigma = df['comprimento_pétala'].mean(), df['comprimento_pétala'].std()\n",
    "\n",
    "eixo.hist(df['comprimento_pétala'], bins = 20, density = True)\n",
    "\n",
    "eixo.grid(True)\n",
    "eixo.set_title('Histograma', fontsize = 15, pad = 10)\n",
    "eixo.set_xlabel('Comprimento da pétala', fontsize = 15)\n",
    "\n",
    "\n",
    "# Write on the chart \n",
    "# $= writes in formula\n",
    "# {0:.2f}= two decimal places\n",
    "# n$= skip a line\n",
    "# xy = localization\n",
    "\n",
    "eixo.annotate('$\\mu = {0:.2f}$\\n$\\sigma={1:.2f}$'.format(mu, sigma), \n",
    "              xy=(4.5, 0.5), fontsize=20)"
   ]
  },
  {
   "cell_type": "code",
   "execution_count": null,
   "metadata": {},
   "outputs": [],
   "source": [
    "# Paint letter (annotate)\n",
    "\n",
    "...\n",
    "eixo.annotate('mediana', xy=(df_ivg['comprimento_pétala'].median(), 7), fontsize=20, color = 'g')\n",
    "..."
   ]
  },
  {
   "cell_type": "code",
   "execution_count": null,
   "metadata": {},
   "outputs": [],
   "source": [
    "# Add a horizontal line indicating the position of the mean in the histogram\n",
    "\n",
    "...\n",
    "mu, sigma = df['comprimento_pétala'].mean(), df['comprimento_pétala'].std()\n",
    "...\n",
    "\n",
    "eixo.annotate('$\\mu = {0:.2f}$\\n$\\sigma={1:.2f}$'.format(mu, sigma), \n",
    "              xy=(4.5, 0.5), fontsize=20)\n",
    "\n",
    "# Draw straight\n",
    "eixo.axvline(df['comprimento_pétala'].mean(), color='k', linestyle='--')\n",
    "\n",
    "# Identifies as mean\n",
    "eixo.annotate('média', xy=(df['comprimento_pétala'].mean(), 28), fontsize=20)"
   ]
  },
  {
   "cell_type": "code",
   "execution_count": null,
   "metadata": {},
   "outputs": [],
   "source": [
    "# Add a horizontal line indicating the position of the median in the histogram\n",
    "\n",
    "...\n",
    "mu, sigma = df['comprimento_pétala'].mean(), df['comprimento_pétala'].std()\n",
    "...\n",
    "\n",
    "eixo.annotate('$\\mu = {0:.2f}$\\n$\\sigma={1:.2f}$'.format(mu, sigma), \n",
    "              xy=(4.5, 0.5), fontsize=20)\n",
    "\n",
    "# Draw straight\n",
    "eixo.axvline(df['comprimento_pétala'].median(), color='g', linestyle='--')\n",
    "\n",
    "# Identifies as median\n",
    "eixo.annotate('mediana', xy=(df['comprimento_pétala'].median(), 31), fontsize=20, color = 'g')"
   ]
  },
  {
   "cell_type": "code",
   "execution_count": null,
   "metadata": {},
   "outputs": [],
   "source": [
    "# Make a histogram directed to a column and variable\n",
    "\n",
    "...\n",
    "# Data filter\n",
    "fig = plt.figure(figsize=(5,4))\n",
    "eixo = fig.add_axes([0,0,1,1])\n",
    "\n",
    "df_iv = df[df['espécie'] == 'Iris-versicolor']\n",
    "\n",
    "mu, sigma = df_iv['comprimento_pétala'].mean(), df_iv['comprimento_pétala'].std()\n",
    "\n",
    "eixo.hist(df_iv['comprimento_pétala'], bins = 20)\n",
    "eixo.grid(True)\n",
    "eixo.set_title('Histograma Iris Versicolor', fontsize = 15, pad = 10)\n",
    "eixo.set_xlabel('Comprimento da pétala', fontsize = 15)\n",
    "\n",
    "eixo.annotate('$\\mu = {0:.2f}$\\n$\\sigma={1:.2f}$'.format(mu, sigma), \n",
    "              xy=(4.6, 6), fontsize=20)\n",
    "\n",
    "eixo.annotate('média', xy=(df_iv['comprimento_pétala'].mean()-0.5, 5.5), fontsize=20)\n",
    "eixo.axvline(df_iv['comprimento_pétala'].mean(), color='k', linestyle='--')\n",
    "\n",
    "eixo.annotate('mediana', xy=(df_iv['comprimento_pétala'].median() - 0.7, 6.5), fontsize=20, color = 'g')\n",
    "eixo.axvline(df_iv['comprimento_pétala'].median(), color='g', linestyle='--')\n",
    "\n",
    "\n",
    "\n",
    "# change the position for each figure\n",
    "\n",
    "...\n",
    "eixo.annotate('$\\mu = {0:.2f}$\\n$\\sigma={1:.2f}$'.format(mu, sigma), \n",
    "              xy=(1.7, 7), fontsize=20)\n",
    "\n",
    "eixo.annotate('média', xy=(df_is['comprimento_pétala'].mean()-0.2, 13.5), fontsize=20)\n",
    "eixo.axvline(df_is['comprimento_pétala'].mean(), color='k', linestyle='--')\n",
    "\n",
    "eixo.annotate('mediana', xy=(df_is['comprimento_pétala'].median()+0.05, 12), fontsize=20, color = 'g')\n",
    "eixo.axvline(df_is['comprimento_pétala'].median(), color='g', linestyle='--')\n",
    "\n",
    "\n",
    "\n",
    "# Last figure\n",
    "\n",
    "...\n",
    "eixo.annotate('$\\mu = {0:.2f}$\\n$\\sigma={1:.2f}$'.format(mu, sigma), \n",
    "              xy=(6.3, 7), fontsize=20)\n",
    "\n",
    "eixo.annotate('média', xy=(df_ivg['comprimento_pétala'].mean(), 8), fontsize=20)\n",
    "eixo.axvline(df_ivg['comprimento_pétala'].mean(), color='k', linestyle='--')\n",
    "\n",
    "eixo.annotate('mediana', xy=(df_ivg['comprimento_pétala'].median(), 7), fontsize=20, color = 'g')\n",
    "eixo.axvline(df_ivg['comprimento_pétala'].median(), color='g', linestyle='--')"
   ]
  },
  {
   "cell_type": "code",
   "execution_count": null,
   "metadata": {},
   "outputs": [],
   "source": [
    "# Combine the targeted histograms into a single figure\n",
    "\n",
    "#import new library\n",
    "from PIL import Image\n",
    "\n",
    "# Size image\n",
    "largura_imagem, altura_imagem = Image.open('histograma_iv.png').size\n",
    "\n",
    "# New image (3 image = 3*)\n",
    "combinada = Image.new(\"RGB\", (largura_imagem*3, altura_imagem))\n",
    "\n",
    "\n",
    "# Distribute images\n",
    "x_offset = 0\n",
    "for imagem in map(Image.open, ['histograma_iv.png', 'histograma_is.png', 'histograma_ivg.png']):\n",
    "    combinada.paste(imagem, (x_offset, 0))\n",
    "    x_offset += largura_imagem        #join image\n",
    "    \n",
    "    \n",
    "combinada.save('combinada.png')"
   ]
  },
  {
   "cell_type": "markdown",
   "metadata": {},
   "source": [
    "### Chart/graphics types"
   ]
  },
  {
   "cell_type": "code",
   "execution_count": null,
   "metadata": {},
   "outputs": [],
   "source": [
    "# Box-plot\n",
    "\n",
    "dados.boxplot(['col1'])\n",
    "\n",
    "#or\n",
    "\n",
    "dados.boxplot(['col1'], by = ['col2'])"
   ]
  },
  {
   "cell_type": "code",
   "execution_count": null,
   "metadata": {},
   "outputs": [],
   "source": [
    "# Line graph\n",
    "\n",
    "plt.plot(df['col1'], df.col2)"
   ]
  },
  {
   "cell_type": "code",
   "execution_count": null,
   "metadata": {},
   "outputs": [],
   "source": [
    "# Histogram\n",
    "\n",
    "dados.hist(['col1'])"
   ]
  },
  {
   "cell_type": "code",
   "execution_count": null,
   "metadata": {},
   "outputs": [],
   "source": [
    "# Create 4 Chart  in one figure\n",
    "\n",
    "\n",
    "# 1st Define the sizes and division of the graphics display\n",
    "area = plt.figure() \n",
    "g1 = area.add_subplot(2, 2, 1)\n",
    "g2 = area.add_subplot(2, 2, 2)\n",
    "g3 = area.add_subplot(2, 2, 3)\n",
    "g4 = area.add_subplot(2, 2, 4)\n",
    "\n",
    "# 2nd Assemble charts\n",
    "\n",
    "g1.scatter(dados.Valor, dados.Area)\n",
    "g1.set_title('Valor X Área')\n",
    "\n",
    "g2.hist(dados.Valor)\n",
    "g2.set_title('Histograma')\n",
    "\n",
    "# create with random values\n",
    "dados_g3 = dados.Valor.sample(100) \n",
    "dados_g3.index = range(dados_g3.shape[0])\n",
    "g3.plot(dados_g3)\n",
    "g3.set_title('Amostra (Valor)')\n",
    "\n",
    "grupo = dados.groupby('Tipo')['Valor']\n",
    "label = grupo.mean().index\n",
    "valores = grupo.mean().values\n",
    "g4.bar(label, valores)\n",
    "g4.set_title('Valor Médio por Tipo')"
   ]
  },
  {
   "cell_type": "code",
   "execution_count": null,
   "metadata": {},
   "outputs": [],
   "source": [
    "# Pie chart (simple)\n",
    "\n",
    "# Size fig\n",
    "fig = plt.figure(figsize=(5,4))\n",
    "eixo = fig.add_axes([0,0,1,1])\n",
    "\n",
    "# Define axes and put caption\n",
    "eixo.pie(temperatura_por_dia_da_semana, labels=temperatura_por_dia_da_semana.index,\n",
    "         autopct='%.1f%%')\n",
    "eixo.set_title('Temperatura por dia da semana', fontsize=15, pad=10)"
   ]
  },
  {
   "cell_type": "code",
   "execution_count": null,
   "metadata": {},
   "outputs": [],
   "source": [
    "# Pie chart\n",
    "\n",
    "area = plt.figure()\n",
    "g1 = area.add_subplot(1, 2, 1)\n",
    "g2 = area.add_subplot(1, 2, 2)\n",
    "grupo1 = dados.groupby('Tipo Agregado')['Valor']\n",
    "label = grupo1.count().index\n",
    "valores = grupo1.count().values\n",
    "g1.pie(valores, labels = label, autopct='%1.1f%%')\n",
    "g1.set_title('Total de Imóveis por Tipo Agregado')\n",
    "grupo2 = dados.groupby('Tipo')['Valor']\n",
    "label = grupo2.count().index\n",
    "valores = grupo2.count().values\n",
    "g2.pie(valores, labels = label, autopct='%1.1f%%', explode = (.1, .1, .1, .1, .1))\n",
    "g2.set_title('Total de Imóveis por Tipo')"
   ]
  },
  {
   "cell_type": "code",
   "execution_count": null,
   "metadata": {},
   "outputs": [],
   "source": [
    "# Bar chart\n",
    "\n",
    "# Group data and organize data (filter)\n",
    "temperatura_por_dia_da_semana = df.groupby('dia_da_semana')['temperatura'].mean()\n",
    "nome_dias = ['Domingo', 'Segunda', 'Terça', 'Quarta', 'Quinta', 'Sexta', 'Sábado']\n",
    "temperatura_por_dia_da_semana = temperatura_por_dia_da_semana[nome_dias]\n",
    "\n",
    "# Size fig\n",
    "fig = plt.figure(figsize=(5,4))\n",
    "eixo = fig.add_axes([0,0,1,1])\n",
    "\n",
    "# index with data list\n",
    "indice = range(len(temperatura_por_dia_da_semana))\n",
    "\n",
    "# Define axes\n",
    "eixo.bar(indice, temperatura_por_dia_da_semana)\n",
    "eixo.set_title('Temperatura por dia da semana', fontsize=15, pad=10)\n",
    "eixo.set_xlabel('Dia da semana', fontsize=15)\n",
    "eixo.set_ylabel('Temperatura média', fontsize=15)\n",
    "\n",
    "# Put subtitle titles\n",
    "eixo.set_xticks(indice)\n",
    "eixo.set_xticklabels(nome_dias)"
   ]
  },
  {
   "cell_type": "code",
   "execution_count": null,
   "metadata": {},
   "outputs": [],
   "source": [
    "# Simple scatterplot\n",
    "\n",
    "fig = plt.figure(figsize=(15,8))\n",
    "eixo = fig.add_axes([0,0,1,1])\n",
    "\n",
    "eixo.scatter(df['comprimento_sépala'], df['largura_sépala'])\n",
    "eixo.set_title('Gráfico de dispersão', fontsize=25, pad=15)\n",
    "eixo.set_xlabel('Comprimento da sépala', fontsize=15)\n",
    "eixo.set_ylabel('Largura da sépala', fontsize=15)"
   ]
  },
  {
   "cell_type": "code",
   "execution_count": null,
   "metadata": {},
   "outputs": [],
   "source": [
    "# Simple histogram\n",
    "\n",
    "fig = plt.figure(figsize=(5,4))\n",
    "eixo = fig.add_axes([0,0,1,1])\n",
    "\n",
    "eixo.hist(df['comprimento_pétala'])\n",
    "eixo.set_title('Histograma', fontsize=15, pad=10)\n",
    "eixo.set_xlabel('Comprimento da pétala', fontsize=15)\n",
    "eixo.grid(True)"
   ]
  },
  {
   "cell_type": "markdown",
   "metadata": {},
   "source": [
    "## Finalize file"
   ]
  },
  {
   "cell_type": "code",
   "execution_count": null,
   "metadata": {},
   "outputs": [],
   "source": [
    "# Save Image\n",
    "\n",
    "area.savefig('grafico.png', dpi = 300, bbox_inches = 'tight')"
   ]
  },
  {
   "cell_type": "code",
   "execution_count": null,
   "metadata": {},
   "outputs": [],
   "source": [
    "# OR (with PIL(library))\n",
    "\n",
    "nome_image.save('combinada.png')"
   ]
  },
  {
   "cell_type": "code",
   "execution_count": null,
   "metadata": {},
   "outputs": [],
   "source": [
    "# Another way (borderless)\n",
    "\n",
    "fig.savefig('histograma_iv.png', bbox_inches='tight')"
   ]
  }
 ],
 "metadata": {
  "kernelspec": {
   "display_name": "Python 3",
   "language": "python",
   "name": "python3"
  },
  "language_info": {
   "codemirror_mode": {
    "name": "ipython",
    "version": 3
   },
   "file_extension": ".py",
   "mimetype": "text/x-python",
   "name": "python",
   "nbconvert_exporter": "python",
   "pygments_lexer": "ipython3",
   "version": "3.8.3"
  }
 },
 "nbformat": 4,
 "nbformat_minor": 4
}
